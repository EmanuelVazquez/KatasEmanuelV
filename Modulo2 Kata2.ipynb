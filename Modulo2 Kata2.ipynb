{
 "cells": [
  {
   "cell_type": "code",
   "execution_count": 1,
   "metadata": {},
   "outputs": [],
   "source": [
    "# Añadir el código necesario para crear una variable que guarde la velocidad del asteroide.\n",
    "# Escribe una expresión de prueba para calcular si necesita una advertencia.\n",
    "# Agregue las instrucciones que se ejecutarán si la expresión de prueba es true o false."
   ]
  },
  {
   "cell_type": "code",
   "execution_count": 3,
   "metadata": {},
   "outputs": [
    {
     "name": "stdout",
     "output_type": "stream",
     "text": [
      "Advertencia! Un asteroide con velocidad de 49km/s se acerca a la Tierra\n"
     ]
    }
   ],
   "source": [
    "asteroide = 49\n",
    "\n",
    "if asteroide > 25:\n",
    "    print(\"Advertencia! Un asteroide con velocidad de \" + str(asteroide) + \"km/s se acerca a la Tierra\")\n",
    "else:\n",
    "    print(\"El aestoride con velocidad de \"+ str(asteroide) + \"se acerca\")"
   ]
  },
  {
   "cell_type": "code",
   "execution_count": 4,
   "metadata": {},
   "outputs": [
    {
     "name": "stdout",
     "output_type": "stream",
     "text": [
      "Un asteroide entro a la atmosfera, pero sin posibilidad de producir un rayo de luz\n"
     ]
    }
   ],
   "source": [
    "asteroide_luz= 20\n",
    "asteroide = 19\n",
    "\n",
    "if asteroide >= 20:\n",
    "    print(\"Un asteroide a entrado a la atmosfera con posibilidad de producir un rayo de luz, Busquen en el cielo!\")\n",
    "else:\n",
    "    print(\"Un asteroide entro a la atmosfera, pero sin posibilidad de producir un rayo de luz\")\n"
   ]
  },
  {
   "cell_type": "code",
   "execution_count": 8,
   "metadata": {},
   "outputs": [
    {
     "name": "stdout",
     "output_type": "stream",
     "text": [
      "Nada por hoy\n"
     ]
    }
   ],
   "source": [
    "vel_asteroide = 10\n",
    "tam_asteroide =40\n",
    "\n",
    "if vel_asteroide > 25 and tam_asteroide > 25:\n",
    "    print(\"Alerta, un asteroide potencialmente peligroso esta en camino a la Tierra\")\n",
    "elif vel_asteroide >=20: \n",
    "    print(\"Un asteroide podria producir un rayo de luz, Busquen en el cielo!\")\n",
    "elif tam_asteroide < 25:\n",
    "    print(\"Nada por hoy\")\n",
    "else:\n",
    "    print(\"Nada por hoy\")"
   ]
  }
 ],
 "metadata": {
  "interpreter": {
   "hash": "b3ba2566441a7c06988d0923437866b63cedc61552a5af99d1f4fb67d367b25f"
  },
  "kernelspec": {
   "display_name": "Python 3.8.8 ('base')",
   "language": "python",
   "name": "python3"
  },
  "language_info": {
   "codemirror_mode": {
    "name": "ipython",
    "version": 3
   },
   "file_extension": ".py",
   "mimetype": "text/x-python",
   "name": "python",
   "nbconvert_exporter": "python",
   "pygments_lexer": "ipython3",
   "version": "3.8.8"
  },
  "orig_nbformat": 4
 },
 "nbformat": 4,
 "nbformat_minor": 2
}
